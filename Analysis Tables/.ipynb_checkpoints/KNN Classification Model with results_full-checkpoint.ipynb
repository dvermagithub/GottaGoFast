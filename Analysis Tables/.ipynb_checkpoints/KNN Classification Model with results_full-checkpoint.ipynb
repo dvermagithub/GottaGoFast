{
 "cells": [
  {
   "cell_type": "code",
   "execution_count": 2,
   "metadata": {},
   "outputs": [],
   "source": [
    "# Create Training DataSet and Model Testing Dataset of Results DataFrame \n",
    "\n",
    "import pandas\n",
    "import numpy as np \n",
    "import matplotlib.pyplot as plt  \n",
    "from pandas.api.types import is_numeric_dtype\n",
    "from pandas import read_csv \n",
    "\n",
    "race_results = read_csv('results_full3(+tyrestrat_weather).csv')\n",
    "del race_results['name_x.1']"
   ]
  },
  {
   "cell_type": "code",
   "execution_count": 31,
   "metadata": {},
   "outputs": [
    {
     "data": {
      "text/plain": [
       "['Unnamed: 0',\n",
       " 'resultId',\n",
       " 'raceId',\n",
       " 'driverId',\n",
       " 'constructorId',\n",
       " 'grid',\n",
       " 'positionText',\n",
       " 'positionOrder',\n",
       " 'points',\n",
       " 'laps',\n",
       " 'fastestLapTime',\n",
       " 'fastestLapSpeed',\n",
       " 'status',\n",
       " 'driverRef',\n",
       " 'dob',\n",
       " 'nationality_x',\n",
       " 'year',\n",
       " 'round',\n",
       " 'name_x',\n",
       " 'date',\n",
       " 'circuitRef',\n",
       " 'location',\n",
       " 'country',\n",
       " 'constructorRef',\n",
       " 'nationality_y',\n",
       " 'position_quali',\n",
       " 'stop',\n",
       " 'lap',\n",
       " 'milliseconds',\n",
       " 'clusters',\n",
       " 'name_y',\n",
       " 'weather',\n",
       " 'SC Laps']"
      ]
     },
     "execution_count": 31,
     "metadata": {},
     "output_type": "execute_result"
    }
   ],
   "source": [
    "for col in race_results.columns:\n",
    "    #if not is_numeric_dtype(race_results[col]):\n",
    "        race_results[col] = race_results[col].astype('category') \n",
    "        race_results[col] = race_results[col].cat.codes\n",
    "list(race_results)"
   ]
  },
  {
   "cell_type": "code",
   "execution_count": 32,
   "metadata": {},
   "outputs": [
    {
     "data": {
      "text/plain": [
       "['Unnamed: 0',\n",
       " 'resultId',\n",
       " 'driverId',\n",
       " 'constructorId',\n",
       " 'grid',\n",
       " 'points',\n",
       " 'laps',\n",
       " 'fastestLapTime',\n",
       " 'fastestLapSpeed',\n",
       " 'status',\n",
       " 'driverRef',\n",
       " 'dob',\n",
       " 'nationality_x',\n",
       " 'year',\n",
       " 'round',\n",
       " 'name_x',\n",
       " 'circuitRef',\n",
       " 'location',\n",
       " 'country',\n",
       " 'constructorRef',\n",
       " 'nationality_y',\n",
       " 'stop',\n",
       " 'lap',\n",
       " 'milliseconds',\n",
       " 'clusters',\n",
       " 'name_y',\n",
       " 'weather',\n",
       " 'SC Laps']"
      ]
     },
     "execution_count": 32,
     "metadata": {},
     "output_type": "execute_result"
    }
   ],
   "source": [
    "#splitting the dataset into the Predictors (independant variables) and the Result variable (dependant variable)\n",
    "#Also removing similar columns to make feature selection more accurate and account for similar variables\n",
    "predictors = race_results.drop('positionOrder', axis =1) \n",
    "predictors = predictors.drop('positionText', axis =1)\n",
    "predictors = predictors.drop('date', axis =1)\n",
    "predictors = predictors.drop('position_quali', axis =1)\n",
    "predictors = predictors.drop('raceId', axis =1)\n",
    "\n",
    "PositionOrder = race_results[['positionOrder']] #only the Position column\n"
   ]
  },
  {
   "cell_type": "code",
   "execution_count": 33,
   "metadata": {},
   "outputs": [
    {
     "name": "stdout",
     "output_type": "stream",
     "text": [
      "Num Features: 5\n",
      "Selected Features: [False  True False False  True  True False  True  True False False False\n",
      " False False False False False False False False False False False False\n",
      " False False False False]\n",
      "Feature Ranking: [ 3  1  2 19  1  1  4  1  1  8  5 12 16 18  9 17 15 11 13 10 20 24 23 22  7\n",
      " 14 21  6]\n"
     ]
    }
   ],
   "source": [
    "#running Recursive Feature Elimination to get top 5 variables for use in KNN model \n",
    "\n",
    "# Compute Information Gain of each feauture and select only features with GINI greater than 70 \n",
    "\n",
    "from sklearn.svm import LinearSVC\n",
    "from sklearn.feature_selection import RFE\n",
    "from sklearn import datasets\n",
    "\n",
    "svm = ExtraTreesClassifier()\n",
    "# create the RFE model for the svm classifier \n",
    "# and select attributes\n",
    "rfe = RFE(svm, 5)\n",
    "rfe = rfe.fit(predictors,PositionOrder)\n",
    "# print summaries for the selection of attributes\n",
    "print(\"Num Features: %s\" % (rfe.n_features_))\n",
    "print(\"Selected Features: %s\" % (rfe.support_))\n",
    "print(\"Feature Ranking: %s\" % (rfe.ranking_))\n",
    "\n"
   ]
  },
  {
   "cell_type": "code",
   "execution_count": 36,
   "metadata": {},
   "outputs": [
    {
     "data": {
      "text/html": [
       "<div>\n",
       "<style>\n",
       "    .dataframe thead tr:only-child th {\n",
       "        text-align: right;\n",
       "    }\n",
       "\n",
       "    .dataframe thead th {\n",
       "        text-align: left;\n",
       "    }\n",
       "\n",
       "    .dataframe tbody tr th {\n",
       "        vertical-align: top;\n",
       "    }\n",
       "</style>\n",
       "<table border=\"1\" class=\"dataframe\">\n",
       "  <thead>\n",
       "    <tr style=\"text-align: right;\">\n",
       "      <th></th>\n",
       "      <th>driverId</th>\n",
       "      <th>points</th>\n",
       "      <th>laps</th>\n",
       "      <th>fastestLapTime</th>\n",
       "      <th>fastestLapSpeed</th>\n",
       "    </tr>\n",
       "  </thead>\n",
       "  <tbody>\n",
       "    <tr>\n",
       "      <th>0</th>\n",
       "      <td>5</td>\n",
       "      <td>0</td>\n",
       "      <td>43</td>\n",
       "      <td>204</td>\n",
       "      <td>525</td>\n",
       "    </tr>\n",
       "    <tr>\n",
       "      <th>1</th>\n",
       "      <td>4</td>\n",
       "      <td>7</td>\n",
       "      <td>45</td>\n",
       "      <td>192</td>\n",
       "      <td>607</td>\n",
       "    </tr>\n",
       "    <tr>\n",
       "      <th>2</th>\n",
       "      <td>3</td>\n",
       "      <td>0</td>\n",
       "      <td>27</td>\n",
       "      <td>189</td>\n",
       "      <td>620</td>\n",
       "    </tr>\n",
       "    <tr>\n",
       "      <th>3</th>\n",
       "      <td>3</td>\n",
       "      <td>0</td>\n",
       "      <td>27</td>\n",
       "      <td>189</td>\n",
       "      <td>620</td>\n",
       "    </tr>\n",
       "    <tr>\n",
       "      <th>4</th>\n",
       "      <td>6</td>\n",
       "      <td>8</td>\n",
       "      <td>45</td>\n",
       "      <td>190</td>\n",
       "      <td>617</td>\n",
       "    </tr>\n",
       "  </tbody>\n",
       "</table>\n",
       "</div>"
      ],
      "text/plain": [
       "   driverId  points  laps  fastestLapTime  fastestLapSpeed\n",
       "0         5       0    43             204              525\n",
       "1         4       7    45             192              607\n",
       "2         3       0    27             189              620\n",
       "3         3       0    27             189              620\n",
       "4         6       8    45             190              617"
      ]
     },
     "execution_count": 36,
     "metadata": {},
     "output_type": "execute_result"
    }
   ],
   "source": [
    "\n",
    "#Select Only the High performing predictors from feature selection above\n",
    "predictors = race_results[['driverId','points','laps','fastestLapTime','fastestLapSpeed']] \n",
    "list(predictors)\n",
    "predictors.head()"
   ]
  },
  {
   "cell_type": "code",
   "execution_count": 7,
   "metadata": {},
   "outputs": [],
   "source": [
    "# Spliting Data into 60% Training and 40% Testing \n",
    "from sklearn.model_selection import train_test_split\n",
    "# Split dataset into training set and test set\n",
    "X_train, X_test, y_train, y_test = train_test_split(predictors,PositionOrder, test_size=0.4) \n",
    "\n",
    "\n",
    "#trainingSet, testingSet = train_test_split(race_results, test_size=0.2)"
   ]
  },
  {
   "cell_type": "code",
   "execution_count": 8,
   "metadata": {},
   "outputs": [
    {
     "name": "stderr",
     "output_type": "stream",
     "text": [
      "/anaconda2/lib/python2.7/site-packages/ipykernel_launcher.py:9: DataConversionWarning: A column-vector y was passed when a 1d array was expected. Please change the shape of y to (n_samples, ), for example using ravel().\n",
      "  if __name__ == '__main__':\n"
     ]
    }
   ],
   "source": [
    "# Run Build KNN model and predict testing data \n",
    "#Import knearest neighbors Classifier model\n",
    "from sklearn.neighbors import KNeighborsClassifier\n",
    "\n",
    "#Create KNN Classifier\n",
    "knn = KNeighborsClassifier(n_neighbors=5)\n",
    "\n",
    "#Train the model using the training sets\n",
    "knn.fit(X_train, y_train)\n",
    "\n",
    "#Predict the response for test dataset\n",
    "y_pred = knn.predict(X_test)"
   ]
  },
  {
   "cell_type": "code",
   "execution_count": 9,
   "metadata": {},
   "outputs": [
    {
     "name": "stdout",
     "output_type": "stream",
     "text": [
      "('Accuracy:', 0.048469387755102039)\n"
     ]
    }
   ],
   "source": [
    "# Test KNN Model using Testing Dataset \n",
    "#Import scikit-learn metrics module for accuracy calculation\n",
    "from sklearn import metrics\n",
    "# Model Accuracy, how often is the classifier correct?\n",
    "print(\"Accuracy:\",metrics.accuracy_score(y_test, y_pred))"
   ]
  },
  {
   "cell_type": "code",
   "execution_count": 10,
   "metadata": {},
   "outputs": [
    {
     "data": {
      "text/plain": [
       "array([[ 4, 10,  5,  3,  5,  0,  3,  3,  4,  0,  0,  1,  1,  1,  0,  0,  0,\n",
       "         0,  0,  0,  0,  0],\n",
       "       [17,  2,  5,  1,  5,  2,  1,  1,  3,  0,  2,  0,  1,  3,  1,  2,  0,\n",
       "         0,  0,  0,  0,  0],\n",
       "       [14,  3,  5,  4,  3,  1,  3,  3,  2,  1,  1,  0,  0,  1,  0,  0,  1,\n",
       "         0,  0,  1,  0,  0],\n",
       "       [11,  2,  7,  3,  5,  1,  1,  0,  3,  1,  0,  2,  0,  1,  1,  0,  1,\n",
       "         0,  0,  0,  0,  0],\n",
       "       [13,  5,  5,  2,  1,  3,  0,  1,  1,  0,  1,  1,  1,  4,  1,  0,  2,\n",
       "         0,  0,  0,  0,  0],\n",
       "       [ 7,  5,  3,  2,  5,  4,  2,  2,  2,  2,  1,  0,  0,  2,  0,  2,  1,\n",
       "         0,  0,  0,  0,  0],\n",
       "       [12,  2,  3,  6,  1,  3,  1,  4,  1,  1,  0,  1,  0,  0,  1,  4,  0,\n",
       "         1,  2,  0,  0,  0],\n",
       "       [ 6,  3,  0,  1,  0,  3,  2,  0,  5,  2,  2,  4,  1,  2,  1,  2,  1,\n",
       "         0,  0,  1,  0,  0],\n",
       "       [10,  4,  6,  4,  5,  2,  3,  0,  0,  0,  1,  0,  0,  2,  0,  0,  1,\n",
       "         2,  0,  0,  0,  0],\n",
       "       [ 8,  2,  1,  5,  6,  5,  2,  3,  2,  2,  2,  1,  1,  1,  0,  1,  2,\n",
       "         0,  1,  1,  0,  0],\n",
       "       [ 5,  3,  5,  4,  2,  5,  2,  4,  3,  2,  3,  2,  0,  1,  3,  1,  2,\n",
       "         0,  1,  0,  0,  0],\n",
       "       [ 4,  6,  1,  4,  4,  5,  0,  1,  1,  3,  2,  4,  2,  0,  1,  3,  0,\n",
       "         1,  0,  0,  0,  0],\n",
       "       [ 4,  7,  1,  2,  3,  4,  1,  5,  0,  3,  2,  1,  2,  2,  0,  0,  3,\n",
       "         1,  0,  0,  0,  0],\n",
       "       [ 7,  0,  2,  1,  6,  3,  1,  2,  3,  2,  1,  0,  2,  0,  1,  0,  1,\n",
       "         0,  1,  0,  0,  0],\n",
       "       [ 3,  2,  4,  1,  2,  3,  6,  4,  6,  3,  1,  4,  5,  4,  3,  1,  1,\n",
       "         0,  0,  0,  0,  0],\n",
       "       [ 5,  3,  4,  1,  5,  1,  1,  2,  4,  1,  1,  1,  3,  4,  1,  2,  1,\n",
       "         1,  0,  0,  0,  0],\n",
       "       [ 1,  2,  4,  3,  5,  1,  0,  2,  7,  2,  0,  1,  3,  4,  2,  0,  1,\n",
       "         1,  0,  1,  0,  0],\n",
       "       [ 4,  1,  0,  2,  2,  5,  1,  1,  1,  0,  0,  1,  0,  3,  1,  1,  2,\n",
       "         1,  2,  0,  1,  0],\n",
       "       [ 3,  1,  0,  1,  2,  2,  3,  1,  3,  1,  1,  1,  0,  1,  0,  1,  1,\n",
       "         0,  0,  0,  1,  0],\n",
       "       [ 2,  1,  2,  0,  1,  1,  1,  1,  0,  0,  0,  0,  0,  1,  0,  1,  1,\n",
       "         1,  1,  0,  0,  0],\n",
       "       [ 1,  0,  0,  0,  0,  0,  0,  0,  0,  0,  0,  0,  0,  0,  0,  0,  0,\n",
       "         0,  0,  0,  0,  0],\n",
       "       [ 1,  0,  0,  0,  0,  1,  0,  0,  0,  0,  0,  0,  0,  1,  0,  0,  1,\n",
       "         0,  0,  1,  0,  0]])"
      ]
     },
     "execution_count": 10,
     "metadata": {},
     "output_type": "execute_result"
    }
   ],
   "source": [
    "# Build Confusion Matrix of predicted results \n",
    "from sklearn.metrics import confusion_matrix\n",
    "confusion_matrix(y_test, y_pred)\n",
    "#Results for KNN Classification for Predicting PointsOrder\n",
    "print('Results for Logistic Regression:')\n",
    "print('Prediction Accuracy:', accuracy_score(y3_test, lr_y3_predict))\n",
    "print('Confusion Matrix: \\n', confusion_matrix(y3_test, lr_y3_predict))\n",
    "print('Classification Report: \\n', classification_report(y3_test, lr_y3_predict))\n",
    "conf_mat = confusion_matrix(y3_test, lr_y3_predict)\n",
    "ax= plt.subplot()\n",
    "sns.heatmap(conf_mat, annot=True, ax = ax, fmt='g');\n",
    "plt.ylabel('True label')\n",
    "plt.xlabel('Predicted label')\n",
    "ax.set_xlabel('Predicted');ax.set_ylabel('Actual'); \n",
    "ax.set_title('Confusion Matrix'); \n",
    "ax.xaxis.set_ticklabels(['Points', 'No Points']); ax.yaxis.set_ticklabels(['No Points', 'Points']);"
   ]
  },
  {
   "cell_type": "code",
   "execution_count": 12,
   "metadata": {},
   "outputs": [
    {
     "ename": "NameError",
     "evalue": "name 'results7' is not defined",
     "output_type": "error",
     "traceback": [
      "\u001b[0;31m---------------------------------------------------------------------------\u001b[0m",
      "\u001b[0;31mNameError\u001b[0m                                 Traceback (most recent call last)",
      "\u001b[0;32m<ipython-input-12-484d79926581>\u001b[0m in \u001b[0;36m<module>\u001b[0;34m()\u001b[0m\n\u001b[1;32m      1\u001b[0m \u001b[0;31m# Convert points finishes (positions 1-10) to P and non-points (positions > 10) as N, remove points column\u001b[0m\u001b[0;34m\u001b[0m\u001b[0;34m\u001b[0m\u001b[0m\n\u001b[0;32m----> 2\u001b[0;31m \u001b[0mresults7\u001b[0m\u001b[0;34m[\u001b[0m\u001b[0;34m'Finish'\u001b[0m\u001b[0;34m]\u001b[0m\u001b[0;34m=\u001b[0m\u001b[0mnp\u001b[0m\u001b[0;34m.\u001b[0m\u001b[0mwhere\u001b[0m\u001b[0;34m(\u001b[0m\u001b[0mresults7\u001b[0m\u001b[0;34m[\u001b[0m\u001b[0;34m'points'\u001b[0m\u001b[0;34m]\u001b[0m\u001b[0;34m>\u001b[0m \u001b[0;36m0.0\u001b[0m\u001b[0;34m,\u001b[0m \u001b[0;34m'P'\u001b[0m\u001b[0;34m,\u001b[0m \u001b[0;34m'N'\u001b[0m\u001b[0;34m)\u001b[0m\u001b[0;34m\u001b[0m\u001b[0m\n\u001b[0m\u001b[1;32m      3\u001b[0m \u001b[0mresults8\u001b[0m \u001b[0;34m=\u001b[0m \u001b[0mresults7\u001b[0m\u001b[0;34m.\u001b[0m\u001b[0mdrop\u001b[0m\u001b[0;34m(\u001b[0m\u001b[0mcolumns\u001b[0m\u001b[0;34m=\u001b[0m\u001b[0;34m[\u001b[0m\u001b[0;34m'points'\u001b[0m\u001b[0;34m]\u001b[0m\u001b[0;34m)\u001b[0m\u001b[0;34m\u001b[0m\u001b[0m\n\u001b[1;32m      4\u001b[0m \u001b[0mresults8\u001b[0m\u001b[0;34m.\u001b[0m\u001b[0mhead\u001b[0m\u001b[0;34m(\u001b[0m\u001b[0;34m)\u001b[0m\u001b[0;34m\u001b[0m\u001b[0m\n",
      "\u001b[0;31mNameError\u001b[0m: name 'results7' is not defined"
     ]
    }
   ],
   "source": [
    "# Convert points finishes (positions 1-10) to P and non-points (positions > 10) as N, remove points column\n",
    "results7['Finish']=np.where(results7['points']> 0.0, 'P', 'N')\n",
    "results8 = results7.drop(columns=['points'])\n",
    "results8.head()\n"
   ]
  },
  {
   "cell_type": "code",
   "execution_count": null,
   "metadata": {},
   "outputs": [],
   "source": []
  }
 ],
 "metadata": {
  "kernelspec": {
   "display_name": "Python 2",
   "language": "python",
   "name": "python2"
  },
  "language_info": {
   "codemirror_mode": {
    "name": "ipython",
    "version": 2
   },
   "file_extension": ".py",
   "mimetype": "text/x-python",
   "name": "python",
   "nbconvert_exporter": "python",
   "pygments_lexer": "ipython2",
   "version": "2.7.16"
  }
 },
 "nbformat": 4,
 "nbformat_minor": 2
}
