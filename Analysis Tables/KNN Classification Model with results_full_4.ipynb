{
 "cells": [
  {
   "cell_type": "code",
   "execution_count": 81,
   "metadata": {},
   "outputs": [],
   "source": [
    "# Create Training DataSet and Model Testing Dataset of Results DataFrame \n",
    "\n",
    "import pandas\n",
    "import numpy as np \n",
    "import matplotlib.pyplot as plt  \n",
    "from pandas.api.types import is_numeric_dtype\n",
    "from pandas import read_csv \n",
    "\n",
    "race_results = read_csv('results_full3(+tyrestrat_weather).csv')\n",
    "del race_results['name_x.1']"
   ]
  },
  {
   "cell_type": "code",
   "execution_count": 82,
   "metadata": {},
   "outputs": [],
   "source": [
    "for col in race_results.columns:\n",
    "    #if not is_numeric_dtype(race_results[col]):\n",
    "        race_results[col] = race_results[col].astype('category') \n",
    "        race_results[col] = race_results[col].cat.codes"
   ]
  },
  {
   "cell_type": "code",
   "execution_count": 83,
   "metadata": {},
   "outputs": [],
   "source": [
    "#splitting the dataset into the Predictors (independant variables) and the Result variable (dependant variable)\n",
    "predictors = race_results.drop('positionOrder', axis =1) \n",
    "predictors = race_results.drop('date', axis =1)#all columns except the results column\n",
    "PositionOrder = race_results[['positionOrder']] #only the Position column"
   ]
  },
  {
   "cell_type": "code",
   "execution_count": 84,
   "metadata": {},
   "outputs": [
    {
     "name": "stdout",
     "output_type": "stream",
     "text": [
      "[False  True  True  True  True  True  True  True  True  True  True False\n",
      "  True  True  True  True False  True  True  True  True  True  True  True\n",
      "  True  True  True False  True  True  True  True]\n",
      "[5 1 1 1 1 1 1 1 1 1 1 3 1 1 1 1 2 1 1 1 1 1 1 1 1 1 1 4 1 1 1 1]\n"
     ]
    }
   ],
   "source": [
    "#running Recursive Feature Elimination to get top 5 variables for use in KNN model \n",
    "\n",
    "# Compute Information Gain of each feauture and select only features with GINI greater than 70 \n",
    "\n",
    "from sklearn.svm import LinearSVC\n",
    "from sklearn.feature_selection import RFE\n",
    "from sklearn import datasets\n",
    "\n",
    "svm = LinearSVC()\n",
    "# create the RFE model for the svm classifier \n",
    "# and select attributes\n",
    "rfe = RFE(svm, 28)\n",
    "rfe = rfe.fit(predictors,PositionOrder)\n",
    "# print summaries for the selection of attributes\n",
    "print(rfe.support_)\n",
    "print(rfe.ranking_)"
   ]
  },
  {
   "cell_type": "code",
   "execution_count": 86,
   "metadata": {},
   "outputs": [
    {
     "name": "stdout",
     "output_type": "stream",
     "text": [
      "[ 0.01400617  0.01984881  0.01392545  0.01608003  0.01642407  0.03022192\n",
      "  0.16423899  0.23954767  0.17440092  0.01946091  0.01509898  0.01493706\n",
      "  0.01977901  0.0151516   0.01672678  0.01579187  0.01209024  0.01368006\n",
      "  0.0136595   0.01237581  0.01425861  0.01270126  0.01679438  0.01149876\n",
      "  0.02419733  0.00092787  0.00174857  0.00662908  0.01385462  0.01164798\n",
      "  0.01038139  0.01791428]\n"
     ]
    },
    {
     "name": "stderr",
     "output_type": "stream",
     "text": [
      "/anaconda2/lib/python2.7/site-packages/ipykernel_launcher.py:4: DataConversionWarning: A column-vector y was passed when a 1d array was expected. Please change the shape of y to (n_samples,), for example using ravel().\n",
      "  after removing the cwd from sys.path.\n"
     ]
    }
   ],
   "source": [
    "# feature extraction using extrstreesclassifier\n",
    "from sklearn.ensemble import ExtraTreesClassifier\n",
    "model = ExtraTreesClassifier()\n",
    "model.fit(predictors,PositionOrder)\n",
    "print(model.feature_importances_)"
   ]
  },
  {
   "cell_type": "code",
   "execution_count": 88,
   "metadata": {},
   "outputs": [],
   "source": [
    "# Spliting Data into 60% Training and 40% Testing \n",
    "from sklearn.model_selection import train_test_split\n",
    "# Split dataset into training set and test set\n",
    "X_train, X_test, y_train, y_test = train_test_split(predictors,PositionOrder, test_size=0.4) \n",
    "\n",
    "\n",
    "#trainingSet, testingSet = train_test_split(race_results, test_size=0.2)"
   ]
  },
  {
   "cell_type": "code",
   "execution_count": 89,
   "metadata": {},
   "outputs": [
    {
     "name": "stderr",
     "output_type": "stream",
     "text": [
      "/anaconda2/lib/python2.7/site-packages/ipykernel_launcher.py:9: DataConversionWarning: A column-vector y was passed when a 1d array was expected. Please change the shape of y to (n_samples, ), for example using ravel().\n",
      "  if __name__ == '__main__':\n"
     ]
    }
   ],
   "source": [
    "# Run Build KNN model and predict testing data \n",
    "#Import knearest neighbors Classifier model\n",
    "from sklearn.neighbors import KNeighborsClassifier\n",
    "\n",
    "#Create KNN Classifier\n",
    "knn = KNeighborsClassifier(n_neighbors=5)\n",
    "\n",
    "#Train the model using the training sets\n",
    "knn.fit(X_train, y_train)\n",
    "\n",
    "#Predict the response for test dataset\n",
    "y_pred = knn.predict(X_test)"
   ]
  },
  {
   "cell_type": "code",
   "execution_count": 90,
   "metadata": {},
   "outputs": [
    {
     "name": "stdout",
     "output_type": "stream",
     "text": [
      "('Accuracy:', 0.042091836734693876)\n"
     ]
    }
   ],
   "source": [
    "# Test KNN Model using Testing Dataset \n",
    "#Import scikit-learn metrics module for accuracy calculation\n",
    "from sklearn import metrics\n",
    "# Model Accuracy, how often is the classifier correct?\n",
    "print(\"Accuracy:\",metrics.accuracy_score(y_test, y_pred))"
   ]
  },
  {
   "cell_type": "code",
   "execution_count": 92,
   "metadata": {},
   "outputs": [
    {
     "data": {
      "text/plain": [
       "array([[ 6, 12,  6,  3,  4,  1,  0,  0,  1,  1,  1,  0,  0,  2,  1,  0,  0,\n",
       "         0,  0,  0,  0,  0],\n",
       "       [15,  6,  6,  1,  6,  0,  2,  1,  2,  2,  1,  0,  1,  1,  1,  0,  0,\n",
       "         0,  0,  0,  0,  0],\n",
       "       [11,  7,  4,  2,  6,  1,  2,  2,  1,  0,  2,  1,  0,  0,  0,  0,  0,\n",
       "         0,  1,  0,  0,  0],\n",
       "       [17,  6,  8,  3,  9,  3,  2,  1,  1,  4,  0,  0,  0,  1,  0,  0,  0,\n",
       "         0,  1,  0,  0,  0],\n",
       "       [ 7,  5,  6,  1,  2,  0,  1,  1,  2,  1,  1,  1,  2,  2,  1,  0,  0,\n",
       "         1,  1,  0,  0,  0],\n",
       "       [ 6,  7,  2,  0, 10,  2,  3,  3,  2,  0,  2,  3,  0,  0,  0,  0,  0,\n",
       "         0,  0,  0,  0,  0],\n",
       "       [11,  5,  4,  1,  6,  4,  2,  2,  3,  2,  0,  1,  0,  1,  0,  1,  0,\n",
       "         0,  1,  0,  0,  0],\n",
       "       [ 9,  3,  6,  2,  4,  1,  4,  1,  3,  1,  1,  1,  0,  0,  0,  0,  1,\n",
       "         1,  0,  0,  0,  0],\n",
       "       [ 9,  3,  9,  3,  5,  1,  5,  1,  0,  1,  0,  2,  1,  2,  0,  0,  1,\n",
       "         0,  0,  1,  0,  0],\n",
       "       [ 7,  2,  5,  1,  4,  2,  6,  2,  0,  1,  0,  0,  0,  0,  2,  2,  1,\n",
       "         0,  0,  0,  0,  0],\n",
       "       [ 8,  6,  8,  2,  2,  1,  2,  2,  2,  2,  2,  0,  0,  2,  2,  0,  0,\n",
       "         0,  0,  0,  0,  0],\n",
       "       [ 6,  2,  3,  3,  6,  2,  3,  0,  4,  3,  2,  1,  1,  1,  0,  0,  0,\n",
       "         0,  0,  0,  0,  0],\n",
       "       [ 3,  4,  6,  3,  6,  1,  4,  4,  1,  2,  4,  1,  1,  3,  0,  0,  0,\n",
       "         1,  0,  0,  0,  0],\n",
       "       [ 6,  5,  6,  2,  5,  4,  0,  2,  1,  1,  2,  2,  3,  0,  1,  2,  1,\n",
       "         0,  1,  0,  0,  1],\n",
       "       [ 5,  3,  5,  1,  2,  3,  5,  2,  2,  5,  0,  6,  0,  2,  1,  2,  0,\n",
       "         1,  0,  0,  0,  0],\n",
       "       [ 3,  2,  6,  1,  3,  6,  4,  4,  0,  4,  3,  0,  1,  2,  1,  1,  1,\n",
       "         2,  0,  0,  0,  0],\n",
       "       [ 9,  1,  6,  3,  0,  3,  3,  2,  4,  2,  1,  5,  1,  1,  2,  2,  0,\n",
       "         1,  0,  0,  0,  0],\n",
       "       [ 6,  1,  1,  0,  0,  3,  1,  3,  3,  0,  0,  1,  1,  1,  2,  0,  1,\n",
       "         0,  1,  0,  0,  0],\n",
       "       [ 2,  2,  0,  0,  1,  3,  2,  0,  2,  2,  2,  2,  1,  0,  2,  0,  3,\n",
       "         0,  0,  0,  0,  0],\n",
       "       [ 1,  0,  1,  1,  0,  0,  0,  1,  0,  1,  2,  1,  0,  0,  0,  0,  3,\n",
       "         0,  0,  0,  0,  0],\n",
       "       [ 0,  0,  1,  0,  0,  0,  0,  0,  0,  1,  0,  0,  0,  0,  0,  0,  0,\n",
       "         1,  0,  0,  0,  0],\n",
       "       [ 1,  1,  0,  0,  0,  0,  0,  0,  0,  2,  0,  0,  0,  0,  0,  0,  0,\n",
       "         0,  0,  0,  0,  0]])"
      ]
     },
     "execution_count": 92,
     "metadata": {},
     "output_type": "execute_result"
    }
   ],
   "source": [
    "# Build Confusion Matrix of predicted results \n",
    "from sklearn.metrics import confusion_matrix\n",
    "confusion_matrix(y_test, y_pred)"
   ]
  },
  {
   "cell_type": "code",
   "execution_count": null,
   "metadata": {},
   "outputs": [],
   "source": [
    "\n"
   ]
  }
 ],
 "metadata": {
  "kernelspec": {
   "display_name": "Python 2",
   "language": "python",
   "name": "python2"
  },
  "language_info": {
   "codemirror_mode": {
    "name": "ipython",
    "version": 2
   },
   "file_extension": ".py",
   "mimetype": "text/x-python",
   "name": "python",
   "nbconvert_exporter": "python",
   "pygments_lexer": "ipython2",
   "version": "2.7.16"
  }
 },
 "nbformat": 4,
 "nbformat_minor": 2
}
